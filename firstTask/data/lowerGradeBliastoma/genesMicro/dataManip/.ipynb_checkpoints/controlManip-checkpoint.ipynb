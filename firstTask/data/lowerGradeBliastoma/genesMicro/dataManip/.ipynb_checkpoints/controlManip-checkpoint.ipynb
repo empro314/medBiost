{
 "cells": [
  {
   "cell_type": "code",
   "execution_count": 1,
   "metadata": {},
   "outputs": [],
   "source": [
    "import pandas as pd"
   ]
  },
  {
   "cell_type": "code",
   "execution_count": 2,
   "metadata": {},
   "outputs": [],
   "source": [
    "input = pd.read_csv(\"contrKey.tsv\", delimiter='\\t')"
   ]
  },
  {
   "cell_type": "code",
   "execution_count": 3,
   "metadata": {},
   "outputs": [
    {
     "data": {
      "text/html": [
       "<div>\n",
       "<style scoped>\n",
       "    .dataframe tbody tr th:only-of-type {\n",
       "        vertical-align: middle;\n",
       "    }\n",
       "\n",
       "    .dataframe tbody tr th {\n",
       "        vertical-align: top;\n",
       "    }\n",
       "\n",
       "    .dataframe thead th {\n",
       "        text-align: right;\n",
       "    }\n",
       "</style>\n",
       "<table border=\"1\" class=\"dataframe\">\n",
       "  <thead>\n",
       "    <tr style=\"text-align: right;\">\n",
       "      <th></th>\n",
       "      <th>File ID</th>\n",
       "      <th>File Name</th>\n",
       "      <th>Data Category</th>\n",
       "      <th>Data Type</th>\n",
       "      <th>Project ID</th>\n",
       "      <th>Case ID</th>\n",
       "      <th>Sample ID</th>\n",
       "      <th>Sample Type</th>\n",
       "    </tr>\n",
       "  </thead>\n",
       "  <tbody>\n",
       "    <tr>\n",
       "      <th>0</th>\n",
       "      <td>8aa907c5-0165-45c7-9241-68df48f1e97c</td>\n",
       "      <td>9b571cc1-447f-4fa1-b797-bf95c1ee2372.FPKM-UQ.t...</td>\n",
       "      <td>Transcriptome Profiling</td>\n",
       "      <td>Gene Expression Quantification</td>\n",
       "      <td>TCGA-GBM</td>\n",
       "      <td>TCGA-06-0675</td>\n",
       "      <td>TCGA-06-0675-11A</td>\n",
       "      <td>Solid Tissue Normal</td>\n",
       "    </tr>\n",
       "    <tr>\n",
       "      <th>1</th>\n",
       "      <td>3a93f504-754e-49c4-b582-cd9b177d781c</td>\n",
       "      <td>63a30223-e2e9-45bc-bc42-c00f9202b493.FPKM-UQ.t...</td>\n",
       "      <td>Transcriptome Profiling</td>\n",
       "      <td>Gene Expression Quantification</td>\n",
       "      <td>TCGA-GBM</td>\n",
       "      <td>TCGA-06-AABW</td>\n",
       "      <td>TCGA-06-AABW-11A</td>\n",
       "      <td>Solid Tissue Normal</td>\n",
       "    </tr>\n",
       "    <tr>\n",
       "      <th>2</th>\n",
       "      <td>915d872a-dfdb-4d0a-8a77-00166f09d0b7</td>\n",
       "      <td>d50c9013-3aee-4b1f-be93-225e568da7c3.FPKM-UQ.t...</td>\n",
       "      <td>Transcriptome Profiling</td>\n",
       "      <td>Gene Expression Quantification</td>\n",
       "      <td>TCGA-GBM</td>\n",
       "      <td>TCGA-06-0680</td>\n",
       "      <td>TCGA-06-0680-11A</td>\n",
       "      <td>Solid Tissue Normal</td>\n",
       "    </tr>\n",
       "    <tr>\n",
       "      <th>3</th>\n",
       "      <td>25827f74-5138-4ccd-bae8-cc7b064d03d9</td>\n",
       "      <td>8880fb74-0849-422e-bfd5-4a38c5a0a906.FPKM-UQ.t...</td>\n",
       "      <td>Transcriptome Profiling</td>\n",
       "      <td>Gene Expression Quantification</td>\n",
       "      <td>TCGA-GBM</td>\n",
       "      <td>TCGA-06-0678</td>\n",
       "      <td>TCGA-06-0678-11A</td>\n",
       "      <td>Solid Tissue Normal</td>\n",
       "    </tr>\n",
       "    <tr>\n",
       "      <th>4</th>\n",
       "      <td>436cdea8-6afb-478a-a1f7-3ac5553a4a67</td>\n",
       "      <td>67b200bf-3d4f-4da6-98ae-5b00e8f94d8b.mirbase21...</td>\n",
       "      <td>Transcriptome Profiling</td>\n",
       "      <td>miRNA Expression Quantification</td>\n",
       "      <td>TCGA-GBM</td>\n",
       "      <td>TCGA-06-AABW</td>\n",
       "      <td>TCGA-06-AABW-11A</td>\n",
       "      <td>Solid Tissue Normal</td>\n",
       "    </tr>\n",
       "    <tr>\n",
       "      <th>5</th>\n",
       "      <td>d72ed682-133c-4120-8e55-3786c44f143a</td>\n",
       "      <td>b88b5311-2a20-421b-baf6-c8a3c1799160.mirbase21...</td>\n",
       "      <td>Transcriptome Profiling</td>\n",
       "      <td>miRNA Expression Quantification</td>\n",
       "      <td>TCGA-GBM</td>\n",
       "      <td>TCGA-06-0681</td>\n",
       "      <td>TCGA-06-0681-11A</td>\n",
       "      <td>Solid Tissue Normal</td>\n",
       "    </tr>\n",
       "    <tr>\n",
       "      <th>6</th>\n",
       "      <td>6e731842-0e30-4c62-ab43-6e1a75ccf1c3</td>\n",
       "      <td>d89ff5eb-6b90-4678-9582-4df71bd558f2.mirbase21...</td>\n",
       "      <td>Transcriptome Profiling</td>\n",
       "      <td>miRNA Expression Quantification</td>\n",
       "      <td>TCGA-GBM</td>\n",
       "      <td>TCGA-06-0678</td>\n",
       "      <td>TCGA-06-0678-11A</td>\n",
       "      <td>Solid Tissue Normal</td>\n",
       "    </tr>\n",
       "    <tr>\n",
       "      <th>7</th>\n",
       "      <td>5a73466e-3e16-4dc9-accd-3f1bb70a45cf</td>\n",
       "      <td>026527d4-007c-4c4e-9bd5-855c44bbe7b0.FPKM-UQ.t...</td>\n",
       "      <td>Transcriptome Profiling</td>\n",
       "      <td>Gene Expression Quantification</td>\n",
       "      <td>TCGA-GBM</td>\n",
       "      <td>TCGA-06-0681</td>\n",
       "      <td>TCGA-06-0681-11A</td>\n",
       "      <td>Solid Tissue Normal</td>\n",
       "    </tr>\n",
       "    <tr>\n",
       "      <th>8</th>\n",
       "      <td>a6bf766b-c287-412e-ac82-abf58477fa5e</td>\n",
       "      <td>d902ff3a-a127-44e4-875e-a606cb5a193d.mirbase21...</td>\n",
       "      <td>Transcriptome Profiling</td>\n",
       "      <td>miRNA Expression Quantification</td>\n",
       "      <td>TCGA-GBM</td>\n",
       "      <td>TCGA-06-0680</td>\n",
       "      <td>TCGA-06-0680-11A</td>\n",
       "      <td>Solid Tissue Normal</td>\n",
       "    </tr>\n",
       "    <tr>\n",
       "      <th>9</th>\n",
       "      <td>a407bd9a-a3e4-4c8a-97b7-298c38623d1a</td>\n",
       "      <td>862f0e7f-e39b-4a11-bdfd-e1f88bfa939a.mirbase21...</td>\n",
       "      <td>Transcriptome Profiling</td>\n",
       "      <td>miRNA Expression Quantification</td>\n",
       "      <td>TCGA-GBM</td>\n",
       "      <td>TCGA-06-0675</td>\n",
       "      <td>TCGA-06-0675-11A</td>\n",
       "      <td>Solid Tissue Normal</td>\n",
       "    </tr>\n",
       "  </tbody>\n",
       "</table>\n",
       "</div>"
      ],
      "text/plain": [
       "                                File ID  \\\n",
       "0  8aa907c5-0165-45c7-9241-68df48f1e97c   \n",
       "1  3a93f504-754e-49c4-b582-cd9b177d781c   \n",
       "2  915d872a-dfdb-4d0a-8a77-00166f09d0b7   \n",
       "3  25827f74-5138-4ccd-bae8-cc7b064d03d9   \n",
       "4  436cdea8-6afb-478a-a1f7-3ac5553a4a67   \n",
       "5  d72ed682-133c-4120-8e55-3786c44f143a   \n",
       "6  6e731842-0e30-4c62-ab43-6e1a75ccf1c3   \n",
       "7  5a73466e-3e16-4dc9-accd-3f1bb70a45cf   \n",
       "8  a6bf766b-c287-412e-ac82-abf58477fa5e   \n",
       "9  a407bd9a-a3e4-4c8a-97b7-298c38623d1a   \n",
       "\n",
       "                                           File Name            Data Category  \\\n",
       "0  9b571cc1-447f-4fa1-b797-bf95c1ee2372.FPKM-UQ.t...  Transcriptome Profiling   \n",
       "1  63a30223-e2e9-45bc-bc42-c00f9202b493.FPKM-UQ.t...  Transcriptome Profiling   \n",
       "2  d50c9013-3aee-4b1f-be93-225e568da7c3.FPKM-UQ.t...  Transcriptome Profiling   \n",
       "3  8880fb74-0849-422e-bfd5-4a38c5a0a906.FPKM-UQ.t...  Transcriptome Profiling   \n",
       "4  67b200bf-3d4f-4da6-98ae-5b00e8f94d8b.mirbase21...  Transcriptome Profiling   \n",
       "5  b88b5311-2a20-421b-baf6-c8a3c1799160.mirbase21...  Transcriptome Profiling   \n",
       "6  d89ff5eb-6b90-4678-9582-4df71bd558f2.mirbase21...  Transcriptome Profiling   \n",
       "7  026527d4-007c-4c4e-9bd5-855c44bbe7b0.FPKM-UQ.t...  Transcriptome Profiling   \n",
       "8  d902ff3a-a127-44e4-875e-a606cb5a193d.mirbase21...  Transcriptome Profiling   \n",
       "9  862f0e7f-e39b-4a11-bdfd-e1f88bfa939a.mirbase21...  Transcriptome Profiling   \n",
       "\n",
       "                         Data Type Project ID       Case ID         Sample ID  \\\n",
       "0   Gene Expression Quantification   TCGA-GBM  TCGA-06-0675  TCGA-06-0675-11A   \n",
       "1   Gene Expression Quantification   TCGA-GBM  TCGA-06-AABW  TCGA-06-AABW-11A   \n",
       "2   Gene Expression Quantification   TCGA-GBM  TCGA-06-0680  TCGA-06-0680-11A   \n",
       "3   Gene Expression Quantification   TCGA-GBM  TCGA-06-0678  TCGA-06-0678-11A   \n",
       "4  miRNA Expression Quantification   TCGA-GBM  TCGA-06-AABW  TCGA-06-AABW-11A   \n",
       "5  miRNA Expression Quantification   TCGA-GBM  TCGA-06-0681  TCGA-06-0681-11A   \n",
       "6  miRNA Expression Quantification   TCGA-GBM  TCGA-06-0678  TCGA-06-0678-11A   \n",
       "7   Gene Expression Quantification   TCGA-GBM  TCGA-06-0681  TCGA-06-0681-11A   \n",
       "8  miRNA Expression Quantification   TCGA-GBM  TCGA-06-0680  TCGA-06-0680-11A   \n",
       "9  miRNA Expression Quantification   TCGA-GBM  TCGA-06-0675  TCGA-06-0675-11A   \n",
       "\n",
       "           Sample Type  \n",
       "0  Solid Tissue Normal  \n",
       "1  Solid Tissue Normal  \n",
       "2  Solid Tissue Normal  \n",
       "3  Solid Tissue Normal  \n",
       "4  Solid Tissue Normal  \n",
       "5  Solid Tissue Normal  \n",
       "6  Solid Tissue Normal  \n",
       "7  Solid Tissue Normal  \n",
       "8  Solid Tissue Normal  \n",
       "9  Solid Tissue Normal  "
      ]
     },
     "execution_count": 3,
     "metadata": {},
     "output_type": "execute_result"
    }
   ],
   "source": [
    "input"
   ]
  },
  {
   "cell_type": "code",
   "execution_count": 6,
   "metadata": {},
   "outputs": [],
   "source": [
    "keys = input[['File Name', 'Case ID']].copy()"
   ]
  },
  {
   "cell_type": "code",
   "execution_count": 7,
   "metadata": {},
   "outputs": [
    {
     "data": {
      "text/html": [
       "<div>\n",
       "<style scoped>\n",
       "    .dataframe tbody tr th:only-of-type {\n",
       "        vertical-align: middle;\n",
       "    }\n",
       "\n",
       "    .dataframe tbody tr th {\n",
       "        vertical-align: top;\n",
       "    }\n",
       "\n",
       "    .dataframe thead th {\n",
       "        text-align: right;\n",
       "    }\n",
       "</style>\n",
       "<table border=\"1\" class=\"dataframe\">\n",
       "  <thead>\n",
       "    <tr style=\"text-align: right;\">\n",
       "      <th></th>\n",
       "      <th>File Name</th>\n",
       "      <th>Case ID</th>\n",
       "    </tr>\n",
       "  </thead>\n",
       "  <tbody>\n",
       "    <tr>\n",
       "      <th>0</th>\n",
       "      <td>9b571cc1-447f-4fa1-b797-bf95c1ee2372.FPKM-UQ.t...</td>\n",
       "      <td>TCGA-06-0675</td>\n",
       "    </tr>\n",
       "    <tr>\n",
       "      <th>1</th>\n",
       "      <td>63a30223-e2e9-45bc-bc42-c00f9202b493.FPKM-UQ.t...</td>\n",
       "      <td>TCGA-06-AABW</td>\n",
       "    </tr>\n",
       "    <tr>\n",
       "      <th>2</th>\n",
       "      <td>d50c9013-3aee-4b1f-be93-225e568da7c3.FPKM-UQ.t...</td>\n",
       "      <td>TCGA-06-0680</td>\n",
       "    </tr>\n",
       "    <tr>\n",
       "      <th>3</th>\n",
       "      <td>8880fb74-0849-422e-bfd5-4a38c5a0a906.FPKM-UQ.t...</td>\n",
       "      <td>TCGA-06-0678</td>\n",
       "    </tr>\n",
       "    <tr>\n",
       "      <th>4</th>\n",
       "      <td>67b200bf-3d4f-4da6-98ae-5b00e8f94d8b.mirbase21...</td>\n",
       "      <td>TCGA-06-AABW</td>\n",
       "    </tr>\n",
       "    <tr>\n",
       "      <th>5</th>\n",
       "      <td>b88b5311-2a20-421b-baf6-c8a3c1799160.mirbase21...</td>\n",
       "      <td>TCGA-06-0681</td>\n",
       "    </tr>\n",
       "    <tr>\n",
       "      <th>6</th>\n",
       "      <td>d89ff5eb-6b90-4678-9582-4df71bd558f2.mirbase21...</td>\n",
       "      <td>TCGA-06-0678</td>\n",
       "    </tr>\n",
       "    <tr>\n",
       "      <th>7</th>\n",
       "      <td>026527d4-007c-4c4e-9bd5-855c44bbe7b0.FPKM-UQ.t...</td>\n",
       "      <td>TCGA-06-0681</td>\n",
       "    </tr>\n",
       "    <tr>\n",
       "      <th>8</th>\n",
       "      <td>d902ff3a-a127-44e4-875e-a606cb5a193d.mirbase21...</td>\n",
       "      <td>TCGA-06-0680</td>\n",
       "    </tr>\n",
       "    <tr>\n",
       "      <th>9</th>\n",
       "      <td>862f0e7f-e39b-4a11-bdfd-e1f88bfa939a.mirbase21...</td>\n",
       "      <td>TCGA-06-0675</td>\n",
       "    </tr>\n",
       "  </tbody>\n",
       "</table>\n",
       "</div>"
      ],
      "text/plain": [
       "                                           File Name       Case ID\n",
       "0  9b571cc1-447f-4fa1-b797-bf95c1ee2372.FPKM-UQ.t...  TCGA-06-0675\n",
       "1  63a30223-e2e9-45bc-bc42-c00f9202b493.FPKM-UQ.t...  TCGA-06-AABW\n",
       "2  d50c9013-3aee-4b1f-be93-225e568da7c3.FPKM-UQ.t...  TCGA-06-0680\n",
       "3  8880fb74-0849-422e-bfd5-4a38c5a0a906.FPKM-UQ.t...  TCGA-06-0678\n",
       "4  67b200bf-3d4f-4da6-98ae-5b00e8f94d8b.mirbase21...  TCGA-06-AABW\n",
       "5  b88b5311-2a20-421b-baf6-c8a3c1799160.mirbase21...  TCGA-06-0681\n",
       "6  d89ff5eb-6b90-4678-9582-4df71bd558f2.mirbase21...  TCGA-06-0678\n",
       "7  026527d4-007c-4c4e-9bd5-855c44bbe7b0.FPKM-UQ.t...  TCGA-06-0681\n",
       "8  d902ff3a-a127-44e4-875e-a606cb5a193d.mirbase21...  TCGA-06-0680\n",
       "9  862f0e7f-e39b-4a11-bdfd-e1f88bfa939a.mirbase21...  TCGA-06-0675"
      ]
     },
     "execution_count": 7,
     "metadata": {},
     "output_type": "execute_result"
    }
   ],
   "source": [
    "keys"
   ]
  },
  {
   "cell_type": "code",
   "execution_count": 8,
   "metadata": {},
   "outputs": [],
   "source": [
    "keys = keys.sort_values(by='Case ID')"
   ]
  },
  {
   "cell_type": "code",
   "execution_count": 9,
   "metadata": {},
   "outputs": [
    {
     "data": {
      "text/html": [
       "<div>\n",
       "<style scoped>\n",
       "    .dataframe tbody tr th:only-of-type {\n",
       "        vertical-align: middle;\n",
       "    }\n",
       "\n",
       "    .dataframe tbody tr th {\n",
       "        vertical-align: top;\n",
       "    }\n",
       "\n",
       "    .dataframe thead th {\n",
       "        text-align: right;\n",
       "    }\n",
       "</style>\n",
       "<table border=\"1\" class=\"dataframe\">\n",
       "  <thead>\n",
       "    <tr style=\"text-align: right;\">\n",
       "      <th></th>\n",
       "      <th>File Name</th>\n",
       "      <th>Case ID</th>\n",
       "    </tr>\n",
       "  </thead>\n",
       "  <tbody>\n",
       "    <tr>\n",
       "      <th>0</th>\n",
       "      <td>9b571cc1-447f-4fa1-b797-bf95c1ee2372.FPKM-UQ.t...</td>\n",
       "      <td>TCGA-06-0675</td>\n",
       "    </tr>\n",
       "    <tr>\n",
       "      <th>9</th>\n",
       "      <td>862f0e7f-e39b-4a11-bdfd-e1f88bfa939a.mirbase21...</td>\n",
       "      <td>TCGA-06-0675</td>\n",
       "    </tr>\n",
       "    <tr>\n",
       "      <th>3</th>\n",
       "      <td>8880fb74-0849-422e-bfd5-4a38c5a0a906.FPKM-UQ.t...</td>\n",
       "      <td>TCGA-06-0678</td>\n",
       "    </tr>\n",
       "    <tr>\n",
       "      <th>6</th>\n",
       "      <td>d89ff5eb-6b90-4678-9582-4df71bd558f2.mirbase21...</td>\n",
       "      <td>TCGA-06-0678</td>\n",
       "    </tr>\n",
       "    <tr>\n",
       "      <th>2</th>\n",
       "      <td>d50c9013-3aee-4b1f-be93-225e568da7c3.FPKM-UQ.t...</td>\n",
       "      <td>TCGA-06-0680</td>\n",
       "    </tr>\n",
       "    <tr>\n",
       "      <th>8</th>\n",
       "      <td>d902ff3a-a127-44e4-875e-a606cb5a193d.mirbase21...</td>\n",
       "      <td>TCGA-06-0680</td>\n",
       "    </tr>\n",
       "    <tr>\n",
       "      <th>5</th>\n",
       "      <td>b88b5311-2a20-421b-baf6-c8a3c1799160.mirbase21...</td>\n",
       "      <td>TCGA-06-0681</td>\n",
       "    </tr>\n",
       "    <tr>\n",
       "      <th>7</th>\n",
       "      <td>026527d4-007c-4c4e-9bd5-855c44bbe7b0.FPKM-UQ.t...</td>\n",
       "      <td>TCGA-06-0681</td>\n",
       "    </tr>\n",
       "    <tr>\n",
       "      <th>1</th>\n",
       "      <td>63a30223-e2e9-45bc-bc42-c00f9202b493.FPKM-UQ.t...</td>\n",
       "      <td>TCGA-06-AABW</td>\n",
       "    </tr>\n",
       "    <tr>\n",
       "      <th>4</th>\n",
       "      <td>67b200bf-3d4f-4da6-98ae-5b00e8f94d8b.mirbase21...</td>\n",
       "      <td>TCGA-06-AABW</td>\n",
       "    </tr>\n",
       "  </tbody>\n",
       "</table>\n",
       "</div>"
      ],
      "text/plain": [
       "                                           File Name       Case ID\n",
       "0  9b571cc1-447f-4fa1-b797-bf95c1ee2372.FPKM-UQ.t...  TCGA-06-0675\n",
       "9  862f0e7f-e39b-4a11-bdfd-e1f88bfa939a.mirbase21...  TCGA-06-0675\n",
       "3  8880fb74-0849-422e-bfd5-4a38c5a0a906.FPKM-UQ.t...  TCGA-06-0678\n",
       "6  d89ff5eb-6b90-4678-9582-4df71bd558f2.mirbase21...  TCGA-06-0678\n",
       "2  d50c9013-3aee-4b1f-be93-225e568da7c3.FPKM-UQ.t...  TCGA-06-0680\n",
       "8  d902ff3a-a127-44e4-875e-a606cb5a193d.mirbase21...  TCGA-06-0680\n",
       "5  b88b5311-2a20-421b-baf6-c8a3c1799160.mirbase21...  TCGA-06-0681\n",
       "7  026527d4-007c-4c4e-9bd5-855c44bbe7b0.FPKM-UQ.t...  TCGA-06-0681\n",
       "1  63a30223-e2e9-45bc-bc42-c00f9202b493.FPKM-UQ.t...  TCGA-06-AABW\n",
       "4  67b200bf-3d4f-4da6-98ae-5b00e8f94d8b.mirbase21...  TCGA-06-AABW"
      ]
     },
     "execution_count": 9,
     "metadata": {},
     "output_type": "execute_result"
    }
   ],
   "source": [
    "keys"
   ]
  },
  {
   "cell_type": "code",
   "execution_count": 10,
   "metadata": {},
   "outputs": [
    {
     "name": "stdout",
     "output_type": "stream",
     "text": [
      "\u001b[0m\u001b[01;32mcontrKey.tsv\u001b[0m*        \u001b[01;32mdataManip.ipynb\u001b[0m*        \u001b[01;32minterm\u001b[0m*   \u001b[01;32mkeys\u001b[0m*\r\n",
      "\u001b[01;32mcontrolManip.ipynb\u001b[0m*  \u001b[01;32mdatasetCreation.ipynb\u001b[0m*  \u001b[01;32minterm2\u001b[0m*  \u001b[01;32mreadyDataset\u001b[0m*\r\n"
     ]
    }
   ],
   "source": [
    "ls"
   ]
  },
  {
   "cell_type": "code",
   "execution_count": 11,
   "metadata": {},
   "outputs": [
    {
     "name": "stdout",
     "output_type": "stream",
     "text": [
      "/media/empro/5C02C2EB02C2C8EA/Ubuntu/medBiost/firstTask/data/lowerGradeBliastoma/genesMicro\n"
     ]
    }
   ],
   "source": [
    "cd .."
   ]
  },
  {
   "cell_type": "code",
   "execution_count": 12,
   "metadata": {},
   "outputs": [
    {
     "name": "stdout",
     "output_type": "stream",
     "text": [
      "\u001b[0m\u001b[34;42mcontrols\u001b[0m/  \u001b[34;42mdataManip\u001b[0m/  \u001b[34;42mgenes\u001b[0m/  \u001b[34;42mmicro\u001b[0m/  \u001b[34;42mmix\u001b[0m/  \u001b[34;42mmixBackup\u001b[0m/  \u001b[01;32mmixKey.tsv\u001b[0m*\r\n"
     ]
    }
   ],
   "source": [
    "ls"
   ]
  },
  {
   "cell_type": "code",
   "execution_count": 13,
   "metadata": {},
   "outputs": [
    {
     "name": "stdout",
     "output_type": "stream",
     "text": [
      "/media/empro/5C02C2EB02C2C8EA/Ubuntu/medBiost/firstTask/data/lowerGradeBliastoma/genesMicro/controls\n"
     ]
    }
   ],
   "source": [
    "cd controls/"
   ]
  },
  {
   "cell_type": "code",
   "execution_count": 14,
   "metadata": {},
   "outputs": [
    {
     "name": "stdout",
     "output_type": "stream",
     "text": [
      "\u001b[0m\u001b[01;32m026527d4-007c-4c4e-9bd5-855c44bbe7b0.FPKM-UQ.txt.gz\u001b[0m*\r\n",
      "\u001b[01;32m63a30223-e2e9-45bc-bc42-c00f9202b493.FPKM-UQ.txt.gz\u001b[0m*\r\n",
      "\u001b[01;32m67b200bf-3d4f-4da6-98ae-5b00e8f94d8b.mirbase21.mirnas.quantification.txt\u001b[0m*\r\n",
      "\u001b[01;32m862f0e7f-e39b-4a11-bdfd-e1f88bfa939a.mirbase21.mirnas.quantification.txt\u001b[0m*\r\n",
      "\u001b[01;32m8880fb74-0849-422e-bfd5-4a38c5a0a906.FPKM-UQ.txt.gz\u001b[0m*\r\n",
      "\u001b[01;32m9b571cc1-447f-4fa1-b797-bf95c1ee2372.FPKM-UQ.txt.gz\u001b[0m*\r\n",
      "\u001b[01;32mb88b5311-2a20-421b-baf6-c8a3c1799160.mirbase21.mirnas.quantification.txt\u001b[0m*\r\n",
      "\u001b[01;32md50c9013-3aee-4b1f-be93-225e568da7c3.FPKM-UQ.txt.gz\u001b[0m*\r\n",
      "\u001b[01;32md89ff5eb-6b90-4678-9582-4df71bd558f2.mirbase21.mirnas.quantification.txt\u001b[0m*\r\n",
      "\u001b[01;32md902ff3a-a127-44e4-875e-a606cb5a193d.mirbase21.mirnas.quantification.txt\u001b[0m*\r\n"
     ]
    }
   ],
   "source": [
    "ls"
   ]
  },
  {
   "cell_type": "code",
   "execution_count": 16,
   "metadata": {},
   "outputs": [],
   "source": [
    "keys.to_csv('controlKey', sep=\" \", header=False, index=False)"
   ]
  },
  {
   "cell_type": "code",
   "execution_count": null,
   "metadata": {},
   "outputs": [],
   "source": []
  }
 ],
 "metadata": {
  "kernelspec": {
   "display_name": "Python 3",
   "language": "python",
   "name": "python3"
  },
  "language_info": {
   "codemirror_mode": {
    "name": "ipython",
    "version": 2
   },
   "file_extension": ".py",
   "mimetype": "text/x-python",
   "name": "python",
   "nbconvert_exporter": "python",
   "pygments_lexer": "ipython2",
   "version": "2.7.14"
  }
 },
 "nbformat": 4,
 "nbformat_minor": 2
}
